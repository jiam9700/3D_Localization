{
 "cells": [
  {
   "cell_type": "code",
   "execution_count": 93,
   "outputs": [],
   "source": [
    "'''\n",
    "Extrinsic Matrices\n",
    "'''\n",
    "import numpy as np\n",
    "\n",
    "# Robot Height\n",
    "robot_height = 10.9\n",
    "\n",
    "# Outpost 1 Camera position\n",
    "o1_point = (-8.98976, 177.5661, 457.6042)\n",
    "\n",
    "# Outpost 1 Camera to World Matrix\n",
    "# -0.70486 0.22467    -0.67282   -8.98975\n",
    "# -0.02764 0.93910    0.34254    177.56610\n",
    "# -0.70880 -0.26004   0.65573    457.60420\n",
    "# 0.00000  0.00000    0.00000    1.00000\n",
    "c2w_matrix_1 = np.array([[-0.70486, 0.22467, -0.67282, -8.98975],\n",
    "                         [-0.02764, 0.93910, 0.34254, 177.56610],\n",
    "                         [-0.70880, -0.26004, 0.65573, 457.60420],\n",
    "                         [0.00000, 0.00000, 0.00000, 1.00000]])\n",
    "\n",
    "# Outpost 1 Camera Projection Matrix\n",
    "# 0.87706\t0.00000\t0.00000\t0.00000\n",
    "# 0.00000\t0.49335\t0.00000\t0.00000\n",
    "# 0.00000\t0.00000\t0.00000\t-1.00000\n",
    "# 0.00000\t0.00000\t-1.66617\t1.66717\n",
    "projection_inv_1 = np.array([[0.87706,\t0.00000, 0.00000, 0.00000],\n",
    "                                [0.00000,\t0.49335, 0.00000, 0.00000],\n",
    "                                [0.00000,\t0.00000, 0.00000, -1.00000],\n",
    "                                [0.00000,\t0.00000, -1.66617, 1.66717]])\n",
    "\n",
    "# Outpost 3 Camera position\n",
    "o3_point = (817.1082, 177.5661, -9.41583)\n",
    "\n",
    "# Outpost 3 Camera to World Matrix\n",
    "# 0.69863  -0.23571   0.67554    817.10820\n",
    "# -0.03390 0.93221    0.36032    177.56610\n",
    "# 0.71468  0.27463    -0.64328   -9.41580\n",
    "# 0.00000  0.00000    0.00000    1.00000\n",
    "c2w_matrix_3 = np.array([[0.69863, -0.23571, 0.67554, 817.10820],\n",
    "                         [-0.03390, 0.93221, 0.36032, 177.56610],\n",
    "                         [0.71468, 0.27463, -0.64328, -9.41580],\n",
    "                         [0.00000, 0.00000, 0.00000, 1.00000]])\n",
    "\n",
    "# Outpost 3 Camera Projection Matrix Inverse\n",
    "# 0.87706\t0.00000\t0.00000\t0.00000\n",
    "# 0.00000\t0.49335\t0.00000\t0.00000\n",
    "# 0.00000\t0.00000\t0.00000\t-1.00000\n",
    "# 0.00000\t0.00000\t-1.66617\t1.66717\n",
    "projection_inv_3 = np.array([[0.87706,\t0.00000, 0.00000, 0.00000],\n",
    "                                [0.00000,\t0.49335, 0.00000, 0.00000],\n",
    "                                [0.00000,\t0.00000, 0.00000, -1.00000],\n",
    "                                [0.00000,\t0.00000, -1.66617, 1.66717]])\n",
    "\n",
    "matrix_1 = np.dot(c2w_matrix_1, projection_inv_1)\n",
    "matrix_3 = np.dot(c2w_matrix_3, projection_inv_3)"
   ],
   "metadata": {
    "collapsed": false,
    "pycharm": {
     "name": "#%%\n"
    }
   }
  },
  {
   "cell_type": "code",
   "execution_count": 98,
   "outputs": [
    {
     "name": "stdout",
     "output_type": "stream",
     "text": [
      "[-1.3784560789354146, -391.59260488435393, 366.77086119125306]\n",
      "test_point_0\t(577.4316779683548, 100.74249342490464)\n"
     ]
    },
    {
     "data": {
      "text/plain": "(578.7988, 99.15597)"
     },
     "execution_count": 98,
     "metadata": {},
     "output_type": "execute_result"
    }
   ],
   "source": [
    "'''\n",
    "convert screen point to robot point for Outpost 3 - Screen 2\n",
    "'''\n",
    "def s2r_o3(screen_point, s2w_matrix, camera_point):\n",
    "    (sx, sy) = screen_point\n",
    "    plane_point = np.array([(sx*2-1)*1000, ((1-sy)*2-1)*1000, 1000, 1000])\n",
    "    world_point = np.dot(s2w_matrix, plane_point)\n",
    "    world_point = world_point[:-1].tolist()\n",
    "    print(world_point)\n",
    "\n",
    "    (x1, y1, z1) = camera_point\n",
    "    (x2, y2, z2) = world_point\n",
    "    a1 = y1 - robot_height\n",
    "    a2 = y1 - y2\n",
    "    xr = x1 + a1/a2 * (x2-x1)\n",
    "    zr = z1 + a1/a2 * (z2-z1)\n",
    "    return xr, zr\n",
    "\n",
    "# mid_point1 = s2r_o3((0.5,0.5), matrix_1, o1_point)\n",
    "# mid_point3 = s2r_o3((0.5,0.5), matrix_3, o3_point)\n",
    "#\n",
    "# print(\"mid point 1\", mid_point1, sep='\\t')\n",
    "# print(\"mid_point3\", mid_point3, sep='\\t')\n",
    "\n",
    "test_point_0 = s2r_o3((0.33828125000000003, 0.7375), matrix_3, o3_point)\n",
    "print(\"test_point_0\", test_point_0, sep='\\t')"
   ],
   "metadata": {
    "collapsed": false,
    "pycharm": {
     "name": "#%%\n"
    }
   }
  },
  {
   "cell_type": "code",
   "source": [
    "'''\n",
    "说明了 wp -> sp 可行, 且误差极小 => 但是可能需要考虑如何平衡两个 Camera 的参数\n",
    "'''\n",
    "w2c_matrix_3 = np.linalg.inv(c2w_matrix_3)\n",
    "projection_3 = np.linalg.inv(projection_inv_3)\n",
    "matrix = np.dot(projection_3, w2c_matrix_3)\n",
    "\n",
    "def test_1(wp):\n",
    "    sp = np.dot(matrix, wp)\n",
    "    # print(\"output sp\", sp, sep='\\t')\n",
    "    # k = sp[2]\n",
    "    sp = sp/sp[2]\n",
    "    # print(\"x\", sp[0], \"y\", sp[1], sp[2], sp[3], sep='\\t')\n",
    "    # print(\"wp\", np.dot(np.linalg.inv(matrix), sp), sep='\\t')\n",
    "    # print(\"processed sp\", (sp[0]+1)/2, 1 - (sp[1] + 1)/2, sep='\\t')\n",
    "    print((sp[0] + 1)/2 * 1280, 720 - (sp[1] + 1)/2 * 720, sep='\\t')\n",
    "\n",
    "def test(x):\n",
    "    [x1, x2] = x\n",
    "    print(\"input sp\", [x1 * 1280 ,x2 * 720], '\\n', sep='\\t')\n",
    "\n",
    "# b1\n",
    "test_1(np.array([578.7988, 10.9, 99.15597, 1]))\n",
    "test([0.33828125000000003, 0.7375])\n",
    "# b2\n",
    "test_1(np.array([555.8079, 10.9, 341.1539, 1]))\n",
    "test([0.589453125, 0.4826388888888889])\n",
    "# r1\n",
    "test_1(np.array([289.7958,10.9, 56.153, 1]))\n",
    "test([0.10859375, 0.5201388888888889])\n",
    "# r2\n",
    "test_1(np.array([189.1591, 10.9, 334.1981, 1]))\n",
    "test([0.35000000000000003, 0.36388888888888893])"
   ],
   "metadata": {
    "collapsed": false,
    "pycharm": {
     "name": "#%%\n"
    }
   },
   "execution_count": 92,
   "outputs": [
    {
     "name": "stdout",
     "output_type": "stream",
     "text": [
      "430.86207776967217\t534.2992993425983\n",
      "input sp\t[433.00000000000006, 531.0]\t\n",
      "\n",
      "756.3736363995108\t356.049756898566\n",
      "input sp\t[754.5, 347.5]\t\n",
      "\n",
      "136.85691677183945\t380.8172565603058\n",
      "input sp\t[139.0, 374.5]\t\n",
      "\n",
      "445.9823021427974\t269.95560424260947\n",
      "input sp\t[448.00000000000006, 262.0]\t\n",
      "\n"
     ]
    }
   ]
  },
  {
   "cell_type": "code",
   "execution_count": 80,
   "outputs": [
    {
     "name": "stdout",
     "output_type": "stream",
     "text": [
      "-0.32343749999999993\t-0.4750000000000001\n",
      "[521.85194479  10.9         90.22931975   0.90116831]\n"
     ]
    }
   ],
   "source": [
    "def sp2wp(sp):\n",
    "    x = 2*sp[0] - 1\n",
    "    y = 2*(1-sp[1]) - 1\n",
    "    print(x, y, sep='\\t')\n",
    "    wp = np.dot(np.linalg.inv(matrix), np.array([x,y,1.0,1.0014652526237025]))\n",
    "    wp = wp * 10.9 / wp[1]\n",
    "\n",
    "    print(wp)\n",
    "\n",
    "sp2wp([0.33828125000000003, 0.7375])"
   ],
   "metadata": {
    "collapsed": false,
    "pycharm": {
     "name": "#%%\n"
    }
   }
  }
 ],
 "metadata": {
  "kernelspec": {
   "display_name": "Python 3",
   "language": "python",
   "name": "python3"
  },
  "language_info": {
   "codemirror_mode": {
    "name": "ipython",
    "version": 2
   },
   "file_extension": ".py",
   "mimetype": "text/x-python",
   "name": "python",
   "nbconvert_exporter": "python",
   "pygments_lexer": "ipython2",
   "version": "2.7.6"
  }
 },
 "nbformat": 4,
 "nbformat_minor": 0
}